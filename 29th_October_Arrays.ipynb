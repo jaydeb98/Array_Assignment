{
 "cells": [
  {
   "cell_type": "code",
   "execution_count": 3,
   "id": "b8377975",
   "metadata": {},
   "outputs": [
    {
     "data": {
      "text/plain": [
       "True"
      ]
     },
     "execution_count": 3,
     "metadata": {},
     "output_type": "execute_result"
    }
   ],
   "source": [
    "#1.\n",
    "\n",
    "def duplicate_check(arr):\n",
    "    '''This function is to check whether an array contains any duplicate element or not.'''\n",
    "    # Create an empty set to store unique elements encountered so far\n",
    "    numbers = set()\n",
    "    \n",
    "    # Iterate through the elements in the array\n",
    "    for i in arr:\n",
    "        # Check if the current element is already in the set\n",
    "        if i in numbers:\n",
    "            # If yes, it means a duplicate is found, so return True\n",
    "            return True\n",
    "        # If not, add the current element to the set\n",
    "        numbers.add(i)\n",
    "    \n",
    "    # If the loop completes without finding any duplicates, return False\n",
    "    return False\n",
    "\n",
    "# Driver Code\n",
    "arr = [1, 2, 4, 2, 5, 9]\n",
    "\n",
    "# Call the function and print the result\n",
    "duplicate_check(arr)"
   ]
  },
  {
   "cell_type": "code",
   "execution_count": 6,
   "id": "8235047c",
   "metadata": {},
   "outputs": [
    {
     "data": {
      "text/plain": [
       "[5, 6, 7, 1, 2, 3, 4]"
      ]
     },
     "execution_count": 6,
     "metadata": {},
     "output_type": "execute_result"
    }
   ],
   "source": [
    "#2.\n",
    "\n",
    "def rotate_array(arr, k):\n",
    "    '''This function will rotate the given array to the right by k steps.'''\n",
    "    \n",
    "    # Use slicing to rotate the array to the right\n",
    "    rotated_arr = arr[-k:] + arr[:-k]\n",
    "    \n",
    "    return rotated_arr\n",
    "\n",
    "# Driver Code\n",
    "arr = [1, 2, 3, 4, 5, 6, 7] \n",
    "k = 3\n",
    "\n",
    "# Call the rotate_array function and print the result\n",
    "rotate_array(arr, k)\n"
   ]
  },
  {
   "cell_type": "code",
   "execution_count": 14,
   "id": "f27487f5",
   "metadata": {},
   "outputs": [
    {
     "data": {
      "text/plain": [
       "[12, 9, 7, 7, 9, 12]"
      ]
     },
     "execution_count": 14,
     "metadata": {},
     "output_type": "execute_result"
    }
   ],
   "source": [
    "#3.\n",
    "\n",
    "def reverse_array(arr):\n",
    "    '''This function will Reverse the given array in-place.'''\n",
    "    \n",
    "    # Get the length of the array\n",
    "    n = len(arr)\n",
    "    \n",
    "    # Iterate over the first half of the array\n",
    "    for i in range(n // 2):\n",
    "        # Swap elements from the beginning with corresponding elements from the end\n",
    "        arr[i] = arr[n - i - 1]\n",
    "        arr[n - i - 1] = arr[i]\n",
    "    \n",
    "    # Return the reversed array (though not necessary since it's modified in-place)\n",
    "    return arr\n",
    "\n",
    "# Driver Code\n",
    "arr = [2, 4, 5, 7, 9, 12]\n",
    "\n",
    "# Call the reverse_array function\n",
    "reverse_array(arr)"
   ]
  },
  {
   "cell_type": "code",
   "execution_count": 21,
   "id": "ed5533ff",
   "metadata": {},
   "outputs": [
    {
     "data": {
      "text/plain": [
       "20"
      ]
     },
     "execution_count": 21,
     "metadata": {},
     "output_type": "execute_result"
    }
   ],
   "source": [
    "#4.\n",
    "\n",
    "def max_element(arr):\n",
    "    '''This function will return the max element from any given array.'''\n",
    "    n = len(arr)\n",
    "    maximum = arr[0]  # Assuming the first element is the initial maximum\n",
    "    for i in range(1, n):  # Start the loop from index 1 since we already set maximum to arr[0]\n",
    "        if arr[i] > maximum:\n",
    "            maximum = arr[i]\n",
    "    return maximum\n",
    "\n",
    "# Driver Code\n",
    "arr = [10, 5, 20, 8, 15]\n",
    "\n",
    "# Call the max_element function and print the result\n",
    "max_element(arr)"
   ]
  },
  {
   "cell_type": "code",
   "execution_count": 4,
   "id": "0a9bd21a",
   "metadata": {},
   "outputs": [
    {
     "data": {
      "text/plain": [
       "[1, 2, 3, 4, 5]"
      ]
     },
     "execution_count": 4,
     "metadata": {},
     "output_type": "execute_result"
    }
   ],
   "source": [
    "#5.\n",
    "\n",
    "def remove_duplicates(arr):\n",
    "    '''This function will remove duplicates from a sorted array in-place.'''\n",
    "    n = len(arr)\n",
    "    \n",
    "    # Check for an empty or single-element array\n",
    "    if n <= 1:\n",
    "        return n\n",
    "    \n",
    "    # Initialize a pointer to the first element\n",
    "    unique_index = 0\n",
    "    \n",
    "    # Iterate through the array starting from the second element\n",
    "    for i in range(1, n):\n",
    "        # If the current element is different from the previous one, move it to the next unique_index\n",
    "        if arr[i] != arr[unique_index]:\n",
    "            unique_index = unique_index + 1\n",
    "            arr[unique_index] = arr[i]\n",
    "    \n",
    "    # The unique_index now represents the index of the last unique element\n",
    "    # Update the array to keep only the unique elements\n",
    "    arr = arr[:unique_index + 1]\n",
    "    \n",
    "    return arr\n",
    "\n",
    "# Driver Code\n",
    "arr = [1, 1, 2, 2, 2, 3, 3, 4, 4, 4, 5, 5]\n",
    "\n",
    "# Call the remove_duplicates function\n",
    "remove_duplicates(arr)"
   ]
  }
 ],
 "metadata": {
  "kernelspec": {
   "display_name": "Python 3 (ipykernel)",
   "language": "python",
   "name": "python3"
  },
  "language_info": {
   "codemirror_mode": {
    "name": "ipython",
    "version": 3
   },
   "file_extension": ".py",
   "mimetype": "text/x-python",
   "name": "python",
   "nbconvert_exporter": "python",
   "pygments_lexer": "ipython3",
   "version": "3.10.9"
  }
 },
 "nbformat": 4,
 "nbformat_minor": 5
}
